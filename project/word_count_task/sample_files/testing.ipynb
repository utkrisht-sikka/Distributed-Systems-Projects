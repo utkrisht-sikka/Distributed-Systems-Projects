{
 "cells": [
  {
   "cell_type": "code",
   "execution_count": 7,
   "metadata": {},
   "outputs": [],
   "source": [
    "import os"
   ]
  },
  {
   "cell_type": "code",
   "execution_count": 8,
   "metadata": {},
   "outputs": [
    {
     "name": "stdout",
     "output_type": "stream",
     "text": [
      "['config.txt', 'Input1.txt', 'Input2.txt', 'Input3.txt', 'Output1.txt', 'Output2.txt', 'Output_1.txt', 'Output_2.txt', 'testing.ipynb']\n",
      "['Input1.txt', 'Input2.txt', 'Input3.txt']\n",
      "['Output_1.txt', 'Output_2.txt']\n"
     ]
    }
   ],
   "source": [
    "dir_conts = os.listdir('../sample_files/')\n",
    "print(dir_conts)\n",
    "input_file_paths = [x for x in dir_conts if x.find('Input') != -1]\n",
    "output_file_paths = [x for x in dir_conts if x.find('Output_') != -1]\n",
    "print(input_file_paths)\n",
    "print(output_file_paths)"
   ]
  },
  {
   "cell_type": "code",
   "execution_count": 9,
   "metadata": {},
   "outputs": [],
   "source": [
    "input_files = []\n",
    "output_files = []\n",
    "for x in input_file_paths:\n",
    "    f = open(x, 'r')\n",
    "    input_files.append(f)\n",
    "for x in output_file_paths:\n",
    "    f = open(x, 'r')\n",
    "    output_files.append(f)"
   ]
  },
  {
   "cell_type": "code",
   "execution_count": 10,
   "metadata": {},
   "outputs": [
    {
     "name": "stdout",
     "output_type": "stream",
     "text": [
      "Input all words : len = 26\n",
      "{'this': 1, 'is': 6, 'an': 1, 'apple': 2, 'red': 1, 'in': 1, 'color': 1, 'be': 1, 'not': 2, 'afraid': 1, 'of': 1, 'greatness': 3, 'some': 2, 'are': 1, 'born': 1, 'great': 1, 'achieve': 1, 'and': 1, 'others': 1, 'have': 1, 'thrust': 1, 'upon': 1, 'them': 1, 'work': 2, 'worship': 2, 'faith': 4}\n"
     ]
    }
   ],
   "source": [
    "input_all_words = {}\n",
    "for file in input_files:\n",
    "    cont = file.read().splitlines()\n",
    "    for line in cont:\n",
    "        words_list = line.split(\" \")\n",
    "        words_list = [x.lower() for x in words_list]\n",
    "        for word in words_list:\n",
    "            if(word in input_all_words.keys()):\n",
    "                input_all_words[word] += 1\n",
    "            else:\n",
    "                input_all_words[word] = 1\n",
    "    file.close()\n",
    "print(f\"Input all words : len = {len(input_all_words)}\")\n",
    "print(input_all_words)"
   ]
  },
  {
   "cell_type": "code",
   "execution_count": 11,
   "metadata": {},
   "outputs": [
    {
     "name": "stdout",
     "output_type": "stream",
     "text": [
      "Output all words : len = 26\n",
      "{'achieve': 1, 'and': 1, 'apple': 2, 'are': 1, 'color': 1, 'faith': 4, 'great': 1, 'greatness': 3, 'not': 2, 'red': 1, 'worship': 2, 'afraid': 1, 'an': 1, 'be': 1, 'born': 1, 'have': 1, 'in': 1, 'is': 6, 'of': 1, 'others': 1, 'some': 2, 'them': 1, 'this': 1, 'thrust': 1, 'upon': 1, 'work': 2}\n"
     ]
    }
   ],
   "source": [
    "output_all_words = {}\n",
    "for file in output_files:\n",
    "    op_cont = file.read().splitlines()\n",
    "    for line in op_cont:\n",
    "        word, cnt = line.split(\" \")[0], int(line.split(\" \")[1])\n",
    "        if word in output_all_words.keys():\n",
    "            output_all_words[word] += cnt\n",
    "        else:\n",
    "            output_all_words[word] = cnt\n",
    "    file.close()\n",
    "print(f\"Output all words : len = {len(output_all_words)}\")\n",
    "print(output_all_words)"
   ]
  },
  {
   "attachments": {},
   "cell_type": "markdown",
   "metadata": {},
   "source": [
    "Tests"
   ]
  },
  {
   "cell_type": "code",
   "execution_count": 12,
   "metadata": {},
   "outputs": [
    {
     "name": "stdout",
     "output_type": "stream",
     "text": [
      "True\n",
      "len shared items = 26\n",
      "True\n"
     ]
    }
   ],
   "source": [
    "test1 = len(input_all_words) == len(output_all_words)\n",
    "shared_items = {k: input_all_words[k] for k in input_all_words if k in output_all_words and input_all_words[k] == output_all_words[k]}\n",
    "print(test1)\n",
    "print(f\"len shared items = {len(shared_items)}\")\n",
    "print(len(shared_items) == len(input_all_words))"
   ]
  }
 ],
 "metadata": {
  "kernelspec": {
   "display_name": "dscd-env",
   "language": "python",
   "name": "python3"
  },
  "language_info": {
   "codemirror_mode": {
    "name": "ipython",
    "version": 3
   },
   "file_extension": ".py",
   "mimetype": "text/x-python",
   "name": "python",
   "nbconvert_exporter": "python",
   "pygments_lexer": "ipython3",
   "version": "3.9.16"
  },
  "orig_nbformat": 4
 },
 "nbformat": 4,
 "nbformat_minor": 2
}
